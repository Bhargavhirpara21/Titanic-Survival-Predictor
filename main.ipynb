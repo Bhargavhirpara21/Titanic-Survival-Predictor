{
 "cells": [
  {
   "cell_type": "code",
   "execution_count": 159,
   "metadata": {},
   "outputs": [
    {
     "name": "stdout",
     "output_type": "stream",
     "text": [
      "Requirement already satisfied: pandas in f:\\ml projects\\titanic survival predictor\\.venv\\lib\\site-packages (2.2.3)Note: you may need to restart the kernel to use updated packages.\n",
      "\n",
      "Requirement already satisfied: numpy in f:\\ml projects\\titanic survival predictor\\.venv\\lib\\site-packages (2.2.2)\n",
      "Requirement already satisfied: matplotlib in f:\\ml projects\\titanic survival predictor\\.venv\\lib\\site-packages (3.10.0)\n",
      "Requirement already satisfied: seaborn in f:\\ml projects\\titanic survival predictor\\.venv\\lib\\site-packages (0.13.2)\n",
      "Requirement already satisfied: scikit-learn in f:\\ml projects\\titanic survival predictor\\.venv\\lib\\site-packages (1.6.1)\n",
      "Requirement already satisfied: python-dateutil>=2.8.2 in f:\\ml projects\\titanic survival predictor\\.venv\\lib\\site-packages (from pandas) (2.9.0.post0)\n",
      "Requirement already satisfied: pytz>=2020.1 in f:\\ml projects\\titanic survival predictor\\.venv\\lib\\site-packages (from pandas) (2025.1)\n",
      "Requirement already satisfied: tzdata>=2022.7 in f:\\ml projects\\titanic survival predictor\\.venv\\lib\\site-packages (from pandas) (2025.1)\n",
      "Requirement already satisfied: contourpy>=1.0.1 in f:\\ml projects\\titanic survival predictor\\.venv\\lib\\site-packages (from matplotlib) (1.3.1)\n",
      "Requirement already satisfied: cycler>=0.10 in f:\\ml projects\\titanic survival predictor\\.venv\\lib\\site-packages (from matplotlib) (0.12.1)\n",
      "Requirement already satisfied: fonttools>=4.22.0 in f:\\ml projects\\titanic survival predictor\\.venv\\lib\\site-packages (from matplotlib) (4.56.0)\n",
      "Requirement already satisfied: kiwisolver>=1.3.1 in f:\\ml projects\\titanic survival predictor\\.venv\\lib\\site-packages (from matplotlib) (1.4.8)\n",
      "Requirement already satisfied: packaging>=20.0 in f:\\ml projects\\titanic survival predictor\\.venv\\lib\\site-packages (from matplotlib) (24.2)\n",
      "Requirement already satisfied: pillow>=8 in f:\\ml projects\\titanic survival predictor\\.venv\\lib\\site-packages (from matplotlib) (11.1.0)\n",
      "Requirement already satisfied: pyparsing>=2.3.1 in f:\\ml projects\\titanic survival predictor\\.venv\\lib\\site-packages (from matplotlib) (3.2.1)\n",
      "Requirement already satisfied: scipy>=1.6.0 in f:\\ml projects\\titanic survival predictor\\.venv\\lib\\site-packages (from scikit-learn) (1.15.1)\n",
      "Requirement already satisfied: joblib>=1.2.0 in f:\\ml projects\\titanic survival predictor\\.venv\\lib\\site-packages (from scikit-learn) (1.4.2)\n",
      "Requirement already satisfied: threadpoolctl>=3.1.0 in f:\\ml projects\\titanic survival predictor\\.venv\\lib\\site-packages (from scikit-learn) (3.5.0)\n",
      "Requirement already satisfied: six>=1.5 in f:\\ml projects\\titanic survival predictor\\.venv\\lib\\site-packages (from python-dateutil>=2.8.2->pandas) (1.17.0)\n"
     ]
    }
   ],
   "source": [
    "pip install pandas numpy matplotlib seaborn scikit-learn"
   ]
  },
  {
   "cell_type": "markdown",
   "metadata": {},
   "source": [
    "Import libraries"
   ]
  },
  {
   "cell_type": "code",
   "execution_count": 160,
   "metadata": {},
   "outputs": [],
   "source": [
    "import numpy as np             \n",
    "import pandas as pd        \n",
    "import matplotlib.pyplot as plt    \n",
    "import seaborn as sns   \n",
    "\n",
    "from sklearn.model_selection import train_test_split\n",
    "from sklearn.linear_model import LinearRegression\n",
    "from sklearn.metrics import accuracy_score"
   ]
  },
  {
   "cell_type": "markdown",
   "metadata": {},
   "source": [
    "Data Collection & Processing"
   ]
  },
  {
   "cell_type": "code",
   "execution_count": 161,
   "metadata": {},
   "outputs": [],
   "source": [
    "#load the data\n",
    "data = pd.read_csv(r'F:\\ML Projects\\Titanic Survival Predictor\\train.csv')                                                                                                            "
   ]
  },
  {
   "cell_type": "code",
   "execution_count": 162,
   "metadata": {},
   "outputs": [
    {
     "data": {
      "text/html": [
       "<div>\n",
       "<style scoped>\n",
       "    .dataframe tbody tr th:only-of-type {\n",
       "        vertical-align: middle;\n",
       "    }\n",
       "\n",
       "    .dataframe tbody tr th {\n",
       "        vertical-align: top;\n",
       "    }\n",
       "\n",
       "    .dataframe thead th {\n",
       "        text-align: right;\n",
       "    }\n",
       "</style>\n",
       "<table border=\"1\" class=\"dataframe\">\n",
       "  <thead>\n",
       "    <tr style=\"text-align: right;\">\n",
       "      <th></th>\n",
       "      <th>PassengerId</th>\n",
       "      <th>Survived</th>\n",
       "      <th>Pclass</th>\n",
       "      <th>Name</th>\n",
       "      <th>Sex</th>\n",
       "      <th>Age</th>\n",
       "      <th>SibSp</th>\n",
       "      <th>Parch</th>\n",
       "      <th>Ticket</th>\n",
       "      <th>Fare</th>\n",
       "      <th>Cabin</th>\n",
       "      <th>Embarked</th>\n",
       "    </tr>\n",
       "  </thead>\n",
       "  <tbody>\n",
       "    <tr>\n",
       "      <th>0</th>\n",
       "      <td>1</td>\n",
       "      <td>0</td>\n",
       "      <td>3</td>\n",
       "      <td>Braund, Mr. Owen Harris</td>\n",
       "      <td>male</td>\n",
       "      <td>22.0</td>\n",
       "      <td>1</td>\n",
       "      <td>0</td>\n",
       "      <td>A/5 21171</td>\n",
       "      <td>7.2500</td>\n",
       "      <td>NaN</td>\n",
       "      <td>S</td>\n",
       "    </tr>\n",
       "    <tr>\n",
       "      <th>1</th>\n",
       "      <td>2</td>\n",
       "      <td>1</td>\n",
       "      <td>1</td>\n",
       "      <td>Cumings, Mrs. John Bradley (Florence Briggs Th...</td>\n",
       "      <td>female</td>\n",
       "      <td>38.0</td>\n",
       "      <td>1</td>\n",
       "      <td>0</td>\n",
       "      <td>PC 17599</td>\n",
       "      <td>71.2833</td>\n",
       "      <td>C85</td>\n",
       "      <td>C</td>\n",
       "    </tr>\n",
       "    <tr>\n",
       "      <th>2</th>\n",
       "      <td>3</td>\n",
       "      <td>1</td>\n",
       "      <td>3</td>\n",
       "      <td>Heikkinen, Miss. Laina</td>\n",
       "      <td>female</td>\n",
       "      <td>26.0</td>\n",
       "      <td>0</td>\n",
       "      <td>0</td>\n",
       "      <td>STON/O2. 3101282</td>\n",
       "      <td>7.9250</td>\n",
       "      <td>NaN</td>\n",
       "      <td>S</td>\n",
       "    </tr>\n",
       "    <tr>\n",
       "      <th>3</th>\n",
       "      <td>4</td>\n",
       "      <td>1</td>\n",
       "      <td>1</td>\n",
       "      <td>Futrelle, Mrs. Jacques Heath (Lily May Peel)</td>\n",
       "      <td>female</td>\n",
       "      <td>35.0</td>\n",
       "      <td>1</td>\n",
       "      <td>0</td>\n",
       "      <td>113803</td>\n",
       "      <td>53.1000</td>\n",
       "      <td>C123</td>\n",
       "      <td>S</td>\n",
       "    </tr>\n",
       "    <tr>\n",
       "      <th>4</th>\n",
       "      <td>5</td>\n",
       "      <td>0</td>\n",
       "      <td>3</td>\n",
       "      <td>Allen, Mr. William Henry</td>\n",
       "      <td>male</td>\n",
       "      <td>35.0</td>\n",
       "      <td>0</td>\n",
       "      <td>0</td>\n",
       "      <td>373450</td>\n",
       "      <td>8.0500</td>\n",
       "      <td>NaN</td>\n",
       "      <td>S</td>\n",
       "    </tr>\n",
       "  </tbody>\n",
       "</table>\n",
       "</div>"
      ],
      "text/plain": [
       "   PassengerId  Survived  Pclass  \\\n",
       "0            1         0       3   \n",
       "1            2         1       1   \n",
       "2            3         1       3   \n",
       "3            4         1       1   \n",
       "4            5         0       3   \n",
       "\n",
       "                                                Name     Sex   Age  SibSp  \\\n",
       "0                            Braund, Mr. Owen Harris    male  22.0      1   \n",
       "1  Cumings, Mrs. John Bradley (Florence Briggs Th...  female  38.0      1   \n",
       "2                             Heikkinen, Miss. Laina  female  26.0      0   \n",
       "3       Futrelle, Mrs. Jacques Heath (Lily May Peel)  female  35.0      1   \n",
       "4                           Allen, Mr. William Henry    male  35.0      0   \n",
       "\n",
       "   Parch            Ticket     Fare Cabin Embarked  \n",
       "0      0         A/5 21171   7.2500   NaN        S  \n",
       "1      0          PC 17599  71.2833   C85        C  \n",
       "2      0  STON/O2. 3101282   7.9250   NaN        S  \n",
       "3      0            113803  53.1000  C123        S  \n",
       "4      0            373450   8.0500   NaN        S  "
      ]
     },
     "execution_count": 162,
     "metadata": {},
     "output_type": "execute_result"
    }
   ],
   "source": [
    "data.head() "
   ]
  },
  {
   "cell_type": "code",
   "execution_count": 163,
   "metadata": {},
   "outputs": [
    {
     "data": {
      "text/plain": [
       "(891, 12)"
      ]
     },
     "execution_count": 163,
     "metadata": {},
     "output_type": "execute_result"
    }
   ],
   "source": [
    "data.shape  "
   ]
  },
  {
   "cell_type": "code",
   "execution_count": 164,
   "metadata": {},
   "outputs": [
    {
     "name": "stdout",
     "output_type": "stream",
     "text": [
      "<class 'pandas.core.frame.DataFrame'>\n",
      "RangeIndex: 891 entries, 0 to 890\n",
      "Data columns (total 12 columns):\n",
      " #   Column       Non-Null Count  Dtype  \n",
      "---  ------       --------------  -----  \n",
      " 0   PassengerId  891 non-null    int64  \n",
      " 1   Survived     891 non-null    int64  \n",
      " 2   Pclass       891 non-null    int64  \n",
      " 3   Name         891 non-null    object \n",
      " 4   Sex          891 non-null    object \n",
      " 5   Age          714 non-null    float64\n",
      " 6   SibSp        891 non-null    int64  \n",
      " 7   Parch        891 non-null    int64  \n",
      " 8   Ticket       891 non-null    object \n",
      " 9   Fare         891 non-null    float64\n",
      " 10  Cabin        204 non-null    object \n",
      " 11  Embarked     889 non-null    object \n",
      "dtypes: float64(2), int64(5), object(5)\n",
      "memory usage: 83.7+ KB\n"
     ]
    }
   ],
   "source": [
    "data.info()"
   ]
  },
  {
   "cell_type": "code",
   "execution_count": 165,
   "metadata": {},
   "outputs": [
    {
     "data": {
      "text/plain": [
       "PassengerId      0\n",
       "Survived         0\n",
       "Pclass           0\n",
       "Name             0\n",
       "Sex              0\n",
       "Age            177\n",
       "SibSp            0\n",
       "Parch            0\n",
       "Ticket           0\n",
       "Fare             0\n",
       "Cabin          687\n",
       "Embarked         2\n",
       "dtype: int64"
      ]
     },
     "execution_count": 165,
     "metadata": {},
     "output_type": "execute_result"
    }
   ],
   "source": [
    "data.isnull().sum()"
   ]
  },
  {
   "cell_type": "markdown",
   "metadata": {},
   "source": [
    "Handeling the missing values"
   ]
  },
  {
   "cell_type": "code",
   "execution_count": 166,
   "metadata": {},
   "outputs": [],
   "source": [
    "data = data.drop(columns=['Cabin'], axis=1)"
   ]
  },
  {
   "cell_type": "code",
   "execution_count": 167,
   "metadata": {},
   "outputs": [
    {
     "name": "stderr",
     "output_type": "stream",
     "text": [
      "C:\\Users\\lenovo\\AppData\\Local\\Temp\\ipykernel_19396\\3405002090.py:1: FutureWarning: A value is trying to be set on a copy of a DataFrame or Series through chained assignment using an inplace method.\n",
      "The behavior will change in pandas 3.0. This inplace method will never work because the intermediate object on which we are setting values always behaves as a copy.\n",
      "\n",
      "For example, when doing 'df[col].method(value, inplace=True)', try using 'df.method({col: value}, inplace=True)' or df[col] = df[col].method(value) instead, to perform the operation inplace on the original object.\n",
      "\n",
      "\n",
      "  data['Age'].fillna(data['Age'].mean(), inplace=True)\n"
     ]
    },
    {
     "data": {
      "text/plain": [
       "PassengerId    0\n",
       "Survived       0\n",
       "Pclass         0\n",
       "Name           0\n",
       "Sex            0\n",
       "Age            0\n",
       "SibSp          0\n",
       "Parch          0\n",
       "Ticket         0\n",
       "Fare           0\n",
       "Embarked       2\n",
       "dtype: int64"
      ]
     },
     "execution_count": 167,
     "metadata": {},
     "output_type": "execute_result"
    }
   ],
   "source": [
    "data['Age'].fillna(data['Age'].mean(), inplace=True)\n",
    "data.isnull().sum()"
   ]
  },
  {
   "cell_type": "code",
   "execution_count": 168,
   "metadata": {},
   "outputs": [
    {
     "name": "stdout",
     "output_type": "stream",
     "text": [
      "S\n"
     ]
    },
    {
     "name": "stderr",
     "output_type": "stream",
     "text": [
      "C:\\Users\\lenovo\\AppData\\Local\\Temp\\ipykernel_19396\\3055747492.py:2: FutureWarning: A value is trying to be set on a copy of a DataFrame or Series through chained assignment using an inplace method.\n",
      "The behavior will change in pandas 3.0. This inplace method will never work because the intermediate object on which we are setting values always behaves as a copy.\n",
      "\n",
      "For example, when doing 'df[col].method(value, inplace=True)', try using 'df.method({col: value}, inplace=True)' or df[col] = df[col].method(value) instead, to perform the operation inplace on the original object.\n",
      "\n",
      "\n",
      "  data['Embarked'].fillna(data['Embarked'].mode()[0], inplace=True)\n"
     ]
    }
   ],
   "source": [
    "print(data['Embarked'].mode()[0])\n",
    "data['Embarked'].fillna(data['Embarked'].mode()[0], inplace=True)"
   ]
  },
  {
   "cell_type": "markdown",
   "metadata": {},
   "source": [
    "Data Analysis"
   ]
  },
  {
   "cell_type": "code",
   "execution_count": 169,
   "metadata": {},
   "outputs": [
    {
     "data": {
      "text/html": [
       "<div>\n",
       "<style scoped>\n",
       "    .dataframe tbody tr th:only-of-type {\n",
       "        vertical-align: middle;\n",
       "    }\n",
       "\n",
       "    .dataframe tbody tr th {\n",
       "        vertical-align: top;\n",
       "    }\n",
       "\n",
       "    .dataframe thead th {\n",
       "        text-align: right;\n",
       "    }\n",
       "</style>\n",
       "<table border=\"1\" class=\"dataframe\">\n",
       "  <thead>\n",
       "    <tr style=\"text-align: right;\">\n",
       "      <th></th>\n",
       "      <th>PassengerId</th>\n",
       "      <th>Survived</th>\n",
       "      <th>Pclass</th>\n",
       "      <th>Age</th>\n",
       "      <th>SibSp</th>\n",
       "      <th>Parch</th>\n",
       "      <th>Fare</th>\n",
       "    </tr>\n",
       "  </thead>\n",
       "  <tbody>\n",
       "    <tr>\n",
       "      <th>count</th>\n",
       "      <td>891.000000</td>\n",
       "      <td>891.000000</td>\n",
       "      <td>891.000000</td>\n",
       "      <td>891.000000</td>\n",
       "      <td>891.000000</td>\n",
       "      <td>891.000000</td>\n",
       "      <td>891.000000</td>\n",
       "    </tr>\n",
       "    <tr>\n",
       "      <th>mean</th>\n",
       "      <td>446.000000</td>\n",
       "      <td>0.383838</td>\n",
       "      <td>2.308642</td>\n",
       "      <td>29.699118</td>\n",
       "      <td>0.523008</td>\n",
       "      <td>0.381594</td>\n",
       "      <td>32.204208</td>\n",
       "    </tr>\n",
       "    <tr>\n",
       "      <th>std</th>\n",
       "      <td>257.353842</td>\n",
       "      <td>0.486592</td>\n",
       "      <td>0.836071</td>\n",
       "      <td>13.002015</td>\n",
       "      <td>1.102743</td>\n",
       "      <td>0.806057</td>\n",
       "      <td>49.693429</td>\n",
       "    </tr>\n",
       "    <tr>\n",
       "      <th>min</th>\n",
       "      <td>1.000000</td>\n",
       "      <td>0.000000</td>\n",
       "      <td>1.000000</td>\n",
       "      <td>0.420000</td>\n",
       "      <td>0.000000</td>\n",
       "      <td>0.000000</td>\n",
       "      <td>0.000000</td>\n",
       "    </tr>\n",
       "    <tr>\n",
       "      <th>25%</th>\n",
       "      <td>223.500000</td>\n",
       "      <td>0.000000</td>\n",
       "      <td>2.000000</td>\n",
       "      <td>22.000000</td>\n",
       "      <td>0.000000</td>\n",
       "      <td>0.000000</td>\n",
       "      <td>7.910400</td>\n",
       "    </tr>\n",
       "    <tr>\n",
       "      <th>50%</th>\n",
       "      <td>446.000000</td>\n",
       "      <td>0.000000</td>\n",
       "      <td>3.000000</td>\n",
       "      <td>29.699118</td>\n",
       "      <td>0.000000</td>\n",
       "      <td>0.000000</td>\n",
       "      <td>14.454200</td>\n",
       "    </tr>\n",
       "    <tr>\n",
       "      <th>75%</th>\n",
       "      <td>668.500000</td>\n",
       "      <td>1.000000</td>\n",
       "      <td>3.000000</td>\n",
       "      <td>35.000000</td>\n",
       "      <td>1.000000</td>\n",
       "      <td>0.000000</td>\n",
       "      <td>31.000000</td>\n",
       "    </tr>\n",
       "    <tr>\n",
       "      <th>max</th>\n",
       "      <td>891.000000</td>\n",
       "      <td>1.000000</td>\n",
       "      <td>3.000000</td>\n",
       "      <td>80.000000</td>\n",
       "      <td>8.000000</td>\n",
       "      <td>6.000000</td>\n",
       "      <td>512.329200</td>\n",
       "    </tr>\n",
       "  </tbody>\n",
       "</table>\n",
       "</div>"
      ],
      "text/plain": [
       "       PassengerId    Survived      Pclass         Age       SibSp  \\\n",
       "count   891.000000  891.000000  891.000000  891.000000  891.000000   \n",
       "mean    446.000000    0.383838    2.308642   29.699118    0.523008   \n",
       "std     257.353842    0.486592    0.836071   13.002015    1.102743   \n",
       "min       1.000000    0.000000    1.000000    0.420000    0.000000   \n",
       "25%     223.500000    0.000000    2.000000   22.000000    0.000000   \n",
       "50%     446.000000    0.000000    3.000000   29.699118    0.000000   \n",
       "75%     668.500000    1.000000    3.000000   35.000000    1.000000   \n",
       "max     891.000000    1.000000    3.000000   80.000000    8.000000   \n",
       "\n",
       "            Parch        Fare  \n",
       "count  891.000000  891.000000  \n",
       "mean     0.381594   32.204208  \n",
       "std      0.806057   49.693429  \n",
       "min      0.000000    0.000000  \n",
       "25%      0.000000    7.910400  \n",
       "50%      0.000000   14.454200  \n",
       "75%      0.000000   31.000000  \n",
       "max      6.000000  512.329200  "
      ]
     },
     "execution_count": 169,
     "metadata": {},
     "output_type": "execute_result"
    }
   ],
   "source": [
    "data.describe()"
   ]
  },
  {
   "cell_type": "code",
   "execution_count": 170,
   "metadata": {},
   "outputs": [
    {
     "data": {
      "text/plain": [
       "Survived\n",
       "0    549\n",
       "1    342\n",
       "Name: count, dtype: int64"
      ]
     },
     "execution_count": 170,
     "metadata": {},
     "output_type": "execute_result"
    }
   ],
   "source": [
    "data['Survived'].value_counts()"
   ]
  },
  {
   "cell_type": "markdown",
   "metadata": {},
   "source": [
    "Data Visualization"
   ]
  },
  {
   "cell_type": "code",
   "execution_count": 171,
   "metadata": {},
   "outputs": [
    {
     "data": {
      "text/plain": [
       "<Axes: xlabel='Survived', ylabel='count'>"
      ]
     },
     "execution_count": 171,
     "metadata": {},
     "output_type": "execute_result"
    },
    {
     "data": {
      "image/png": "[encoded data removed]",
      "text/plain": [
       "<Figure size 640x480 with 1 Axes>"
      ]
     },
     "metadata": {},
     "output_type": "display_data"
    }
   ],
   "source": [
    "sns.countplot(x='Survived', data=data)"
   ]
  },
  {
   "cell_type": "code",
   "execution_count": 172,
   "metadata": {},
   "outputs": [
    {
     "data": {
      "text/plain": [
       "<Axes: xlabel='Sex', ylabel='count'>"
      ]
     },
     "execution_count": 172,
     "metadata": {},
     "output_type": "execute_result"
    },
    {
     "data": {
      "image/png": "[encoded data removed]",
      "text/plain": [
       "<Figure size 640x480 with 1 Axes>"
      ]
     },
     "metadata": {},
     "output_type": "display_data"
    }
   ],
   "source": [
    "sns.countplot(x='Sex',data=data)"
   ]
  },
  {
   "cell_type": "code",
   "execution_count": 173,
   "metadata": {},
   "outputs": [
    {
     "data": {
      "text/plain": [
       "<Axes: xlabel='Sex', ylabel='count'>"
      ]
     },
     "execution_count": 173,
     "metadata": {},
     "output_type": "execute_result"
    },
    {
     "data": {
      "image/png": "[encoded data removed]",
      "text/plain": [
       "<Figure size 640x480 with 1 Axes>"
      ]
     },
     "metadata": {},
     "output_type": "display_data"
    }
   ],
   "source": [
    "sns.countplot(x='Sex',hue='Survived',data=data)"
   ]
  },
  {
   "cell_type": "code",
   "execution_count": 174,
   "metadata": {},
   "outputs": [
    {
     "data": {
      "text/plain": [
       "Pclass\n",
       "3    491\n",
       "1    216\n",
       "2    184\n",
       "Name: count, dtype: int64"
      ]
     },
     "execution_count": 174,
     "metadata": {},
     "output_type": "execute_result"
    }
   ],
   "source": [
    "data['Pclass'].value_counts()"
   ]
  },
  {
   "cell_type": "code",
   "execution_count": 175,
   "metadata": {},
   "outputs": [
    {
     "data": {
      "text/plain": [
       "<Axes: xlabel='Pclass', ylabel='count'>"
      ]
     },
     "execution_count": 175,
     "metadata": {},
     "output_type": "execute_result"
    },
    {
     "data": {
      "image/png": "[encoded data removed]",
      "text/plain": [
       "<Figure size 640x480 with 1 Axes>"
      ]
     },
     "metadata": {},
     "output_type": "display_data"
    }
   ],
   "source": [
    "sns.countplot(x='Pclass',data=data)"
   ]
  },
  {
   "cell_type": "code",
   "execution_count": 176,
   "metadata": {},
   "outputs": [
    {
     "data": {
      "text/plain": [
       "<Axes: xlabel='Pclass', ylabel='count'>"
      ]
     },
     "execution_count": 176,
     "metadata": {},
     "output_type": "execute_result"
    },
    {
     "data": {
      "image/png": "[encoded data removed]",
      "text/plain": [
       "<Figure size 640x480 with 1 Axes>"
      ]
     },
     "metadata": {},
     "output_type": "display_data"
    }
   ],
   "source": [
    "sns.countplot(x='Pclass',hue='Survived',data=data) "
   ]
  },
  {
   "cell_type": "markdown",
   "metadata": {},
   "source": [
    "Encoding Categorical columns"
   ]
  },
  {
   "cell_type": "code",
   "execution_count": 177,
   "metadata": {},
   "outputs": [
    {
     "data": {
      "text/plain": [
       "Sex\n",
       "male      577\n",
       "female    314\n",
       "Name: count, dtype: int64"
      ]
     },
     "execution_count": 177,
     "metadata": {},
     "output_type": "execute_result"
    }
   ],
   "source": [
    "data['Sex'].value_counts()"
   ]
  },
  {
   "cell_type": "code",
   "execution_count": 178,
   "metadata": {},
   "outputs": [
    {
     "data": {
      "text/plain": [
       "Embarked\n",
       "S    646\n",
       "C    168\n",
       "Q     77\n",
       "Name: count, dtype: int64"
      ]
     },
     "execution_count": 178,
     "metadata": {},
     "output_type": "execute_result"
    }
   ],
   "source": [
    "data['Embarked'].value_counts()"
   ]
  },
  {
   "cell_type": "code",
   "execution_count": 179,
   "metadata": {},
   "outputs": [
    {
     "name": "stderr",
     "output_type": "stream",
     "text": [
      "C:\\Users\\lenovo\\AppData\\Local\\Temp\\ipykernel_19396\\3597416366.py:1: FutureWarning: Downcasting behavior in `replace` is deprecated and will be removed in a future version. To retain the old behavior, explicitly call `result.infer_objects(copy=False)`. To opt-in to the future behavior, set `pd.set_option('future.no_silent_downcasting', True)`\n",
      "  data['Sex'] = data['Sex'].replace({'male': 0, 'female': 1})\n",
      "C:\\Users\\lenovo\\AppData\\Local\\Temp\\ipykernel_19396\\3597416366.py:2: FutureWarning: Downcasting behavior in `replace` is deprecated and will be removed in a future version. To retain the old behavior, explicitly call `result.infer_objects(copy=False)`. To opt-in to the future behavior, set `pd.set_option('future.no_silent_downcasting', True)`\n",
      "  data['Embarked'] = data['Embarked'].replace({'S': 0, 'C': 1, 'Q': 2})\n"
     ]
    },
    {
     "data": {
      "text/html": [
       "<div>\n",
       "<style scoped>\n",
       "    .dataframe tbody tr th:only-of-type {\n",
       "        vertical-align: middle;\n",
       "    }\n",
       "\n",
       "    .dataframe tbody tr th {\n",
       "        vertical-align: top;\n",
       "    }\n",
       "\n",
       "    .dataframe thead th {\n",
       "        text-align: right;\n",
       "    }\n",
       "</style>\n",
       "<table border=\"1\" class=\"dataframe\">\n",
       "  <thead>\n",
       "    <tr style=\"text-align: right;\">\n",
       "      <th></th>\n",
       "      <th>PassengerId</th>\n",
       "      <th>Survived</th>\n",
       "      <th>Pclass</th>\n",
       "      <th>Name</th>\n",
       "      <th>Sex</th>\n",
       "      <th>Age</th>\n",
       "      <th>SibSp</th>\n",
       "      <th>Parch</th>\n",
       "      <th>Ticket</th>\n",
       "      <th>Fare</th>\n",
       "      <th>Embarked</th>\n",
       "    </tr>\n",
       "  </thead>\n",
       "  <tbody>\n",
       "    <tr>\n",
       "      <th>0</th>\n",
       "      <td>1</td>\n",
       "      <td>0</td>\n",
       "      <td>3</td>\n",
       "      <td>Braund, Mr. Owen Harris</td>\n",
       "      <td>0</td>\n",
       "      <td>22.0</td>\n",
       "      <td>1</td>\n",
       "      <td>0</td>\n",
       "      <td>A/5 21171</td>\n",
       "      <td>7.2500</td>\n",
       "      <td>0</td>\n",
       "    </tr>\n",
       "    <tr>\n",
       "      <th>1</th>\n",
       "      <td>2</td>\n",
       "      <td>1</td>\n",
       "      <td>1</td>\n",
       "      <td>Cumings, Mrs. John Bradley (Florence Briggs Th...</td>\n",
       "      <td>1</td>\n",
       "      <td>38.0</td>\n",
       "      <td>1</td>\n",
       "      <td>0</td>\n",
       "      <td>PC 17599</td>\n",
       "      <td>71.2833</td>\n",
       "      <td>1</td>\n",
       "    </tr>\n",
       "    <tr>\n",
       "      <th>2</th>\n",
       "      <td>3</td>\n",
       "      <td>1</td>\n",
       "      <td>3</td>\n",
       "      <td>Heikkinen, Miss. Laina</td>\n",
       "      <td>1</td>\n",
       "      <td>26.0</td>\n",
       "      <td>0</td>\n",
       "      <td>0</td>\n",
       "      <td>STON/O2. 3101282</td>\n",
       "      <td>7.9250</td>\n",
       "      <td>0</td>\n",
       "    </tr>\n",
       "    <tr>\n",
       "      <th>3</th>\n",
       "      <td>4</td>\n",
       "      <td>1</td>\n",
       "      <td>1</td>\n",
       "      <td>Futrelle, Mrs. Jacques Heath (Lily May Peel)</td>\n",
       "      <td>1</td>\n",
       "      <td>35.0</td>\n",
       "      <td>1</td>\n",
       "      <td>0</td>\n",
       "      <td>113803</td>\n",
       "      <td>53.1000</td>\n",
       "      <td>0</td>\n",
       "    </tr>\n",
       "    <tr>\n",
       "      <th>4</th>\n",
       "      <td>5</td>\n",
       "      <td>0</td>\n",
       "      <td>3</td>\n",
       "      <td>Allen, Mr. William Henry</td>\n",
       "      <td>0</td>\n",
       "      <td>35.0</td>\n",
       "      <td>0</td>\n",
       "      <td>0</td>\n",
       "      <td>373450</td>\n",
       "      <td>8.0500</td>\n",
       "      <td>0</td>\n",
       "    </tr>\n",
       "  </tbody>\n",
       "</table>\n",
       "</div>"
      ],
      "text/plain": [
       "   PassengerId  Survived  Pclass  \\\n",
       "0            1         0       3   \n",
       "1            2         1       1   \n",
       "2            3         1       3   \n",
       "3            4         1       1   \n",
       "4            5         0       3   \n",
       "\n",
       "                                                Name  Sex   Age  SibSp  Parch  \\\n",
       "0                            Braund, Mr. Owen Harris    0  22.0      1      0   \n",
       "1  Cumings, Mrs. John Bradley (Florence Briggs Th...    1  38.0      1      0   \n",
       "2                             Heikkinen, Miss. Laina    1  26.0      0      0   \n",
       "3       Futrelle, Mrs. Jacques Heath (Lily May Peel)    1  35.0      1      0   \n",
       "4                           Allen, Mr. William Henry    0  35.0      0      0   \n",
       "\n",
       "             Ticket     Fare  Embarked  \n",
       "0         A/5 21171   7.2500         0  \n",
       "1          PC 17599  71.2833         1  \n",
       "2  STON/O2. 3101282   7.9250         0  \n",
       "3            113803  53.1000         0  \n",
       "4            373450   8.0500         0  "
      ]
     },
     "execution_count": 179,
     "metadata": {},
     "output_type": "execute_result"
    }
   ],
   "source": [
    "data['Sex'] = data['Sex'].replace({'male': 0, 'female': 1})\n",
    "data['Embarked'] = data['Embarked'].replace({'S': 0, 'C': 1, 'Q': 2})\n",
    "data.head()"
   ]
  },
  {
   "cell_type": "code",
   "execution_count": 180,
   "metadata": {},
   "outputs": [],
   "source": [
    "X = data.drop(columns=['PassengerId', 'Name', 'Ticket','Survived'], axis=1)\n",
    "Y = data['Survived']"
   ]
  },
  {
   "cell_type": "code",
   "execution_count": 181,
   "metadata": {},
   "outputs": [
    {
     "name": "stdout",
     "output_type": "stream",
     "text": [
      "     Pclass  Sex        Age  SibSp  Parch     Fare  Embarked\n",
      "0         3    0  22.000000      1      0   7.2500         0\n",
      "1         1    1  38.000000      1      0  71.2833         1\n",
      "2         3    1  26.000000      0      0   7.9250         0\n",
      "3         1    1  35.000000      1      0  53.1000         0\n",
      "4         3    0  35.000000      0      0   8.0500         0\n",
      "..      ...  ...        ...    ...    ...      ...       ...\n",
      "886       2    0  27.000000      0      0  13.0000         0\n",
      "887       1    1  19.000000      0      0  30.0000         0\n",
      "888       3    1  29.699118      1      2  23.4500         0\n",
      "889       1    0  26.000000      0      0  30.0000         1\n",
      "890       3    0  32.000000      0      0   7.7500         2\n",
      "\n",
      "[891 rows x 7 columns]\n"
     ]
    }
   ],
   "source": [
    "print(X)"
   ]
  },
  {
   "cell_type": "code",
   "execution_count": 182,
   "metadata": {},
   "outputs": [
    {
     "name": "stdout",
     "output_type": "stream",
     "text": [
      "0      0\n",
      "1      1\n",
      "2      1\n",
      "3      1\n",
      "4      0\n",
      "      ..\n",
      "886    0\n",
      "887    1\n",
      "888    0\n",
      "889    1\n",
      "890    0\n",
      "Name: Survived, Length: 891, dtype: int64\n"
     ]
    }
   ],
   "source": [
    "print(Y)"
   ]
  },
  {
   "cell_type": "markdown",
   "metadata": {},
   "source": [
    "Splitting the data into test & train"
   ]
  },
  {
   "cell_type": "code",
   "execution_count": 183,
   "metadata": {},
   "outputs": [],
   "source": [
    "X_train, X_test, Y_train, Y_test = train_test_split(X, Y, test_size=0.2, random_state=2)"
   ]
  },
  {
   "cell_type": "code",
   "execution_count": 184,
   "metadata": {},
   "outputs": [
    {
     "name": "stdout",
     "output_type": "stream",
     "text": [
      "(891, 7) (712, 7) (179, 7)\n"
     ]
    }
   ],
   "source": [
    "print(X.shape, X_train.shape, X_test.shape)"
   ]
  },
  {
   "cell_type": "markdown",
   "metadata": {},
   "source": [
    "Model Training"
   ]
  },
  {
   "cell_type": "code",
   "execution_count": 185,
   "metadata": {},
   "outputs": [],
   "source": [
    "# Instantiate and train the Linear Regression model\n",
    "model = LinearRegression()\n"
   ]
  },
  {
   "cell_type": "code",
   "execution_count": 186,
   "metadata": {},
   "outputs": [
    {
     "data": {
      "text/html": [
       "<style>#sk-container-id-6 {\n",
       "  /* Definition of color scheme common for light and dark mode */\n",
       "  --sklearn-color-text: #000;\n",
       "  --sklearn-color-text-muted: #666;\n",
       "  --sklearn-color-line: gray;\n",
       "  /* Definition of color scheme for unfitted estimators */\n",
       "  --sklearn-color-unfitted-level-0: #fff5e6;\n",
       "  --sklearn-color-unfitted-level-1: #f6e4d2;\n",
       "  --sklearn-color-unfitted-level-2: #ffe0b3;\n",
       "  --sklearn-color-unfitted-level-3: chocolate;\n",
       "  /* Definition of color scheme for fitted estimators */\n",
       "  --sklearn-color-fitted-level-0: #f0f8ff;\n",
       "  --sklearn-color-fitted-level-1: #d4ebff;\n",
       "  --sklearn-color-fitted-level-2: #b3dbfd;\n",
       "  --sklearn-color-fitted-level-3: cornflowerblue;\n",
       "\n",
       "  /* Specific color for light theme */\n",
       "  --sklearn-color-text-on-default-background: var(--sg-text-color, var(--theme-code-foreground, var(--jp-content-font-color1, black)));\n",
       "  --sklearn-color-background: var(--sg-background-color, var(--theme-background, var(--jp-layout-color0, white)));\n",
       "  --sklearn-color-border-box: var(--sg-text-color, var(--theme-code-foreground, var(--jp-content-font-color1, black)));\n",
       "  --sklearn-color-icon: #696969;\n",
       "\n",
       "  @media (prefers-color-scheme: dark) {\n",
       "    /* Redefinition of color scheme for dark theme */\n",
       "    --sklearn-color-text-on-default-background: var(--sg-text-color, var(--theme-code-foreground, var(--jp-content-font-color1, white)));\n",
       "    --sklearn-color-background: var(--sg-background-color, var(--theme-background, var(--jp-layout-color0, #111)));\n",
       "    --sklearn-color-border-box: var(--sg-text-color, var(--theme-code-foreground, var(--jp-content-font-color1, white)));\n",
       "    --sklearn-color-icon: #878787;\n",
       "  }\n",
       "}\n",
       "\n",
       "#sk-container-id-6 {\n",
       "  color: var(--sklearn-color-text);\n",
       "}\n",
       "\n",
       "#sk-container-id-6 pre {\n",
       "  padding: 0;\n",
       "}\n",
       "\n",
       "#sk-container-id-6 input.sk-hidden--visually {\n",
       "  border: 0;\n",
       "  clip: rect(1px 1px 1px 1px);\n",
       "  clip: rect(1px, 1px, 1px, 1px);\n",
       "  height: 1px;\n",
       "  margin: -1px;\n",
       "  overflow: hidden;\n",
       "  padding: 0;\n",
       "  position: absolute;\n",
       "  width: 1px;\n",
       "}\n",
       "\n",
       "#sk-container-id-6 div.sk-dashed-wrapped {\n",
       "  border: 1px dashed var(--sklearn-color-line);\n",
       "  margin: 0 0.4em 0.5em 0.4em;\n",
       "  box-sizing: border-box;\n",
       "  padding-bottom: 0.4em;\n",
       "  background-color: var(--sklearn-color-background);\n",
       "}\n",
       "\n",
       "#sk-container-id-6 div.sk-container {\n",
       "  /* jupyter's `normalize.less` sets `[hidden] { display: none; }`\n",
       "     but bootstrap.min.css set `[hidden] { display: none !important; }`\n",
       "     so we also need the `!important` here to be able to override the\n",
       "     default hidden behavior on the sphinx rendered scikit-learn.org.\n",
       "     See: https://github.com/scikit-learn/scikit-learn/issues/21755 */\n",
       "  display: inline-block !important;\n",
       "  position: relative;\n",
       "}\n",
       "\n",
       "#sk-container-id-6 div.sk-text-repr-fallback {\n",
       "  display: none;\n",
       "}\n",
       "\n",
       "div.sk-parallel-item,\n",
       "div.sk-serial,\n",
       "div.sk-item {\n",
       "  /* draw centered vertical line to link estimators */\n",
       "  background-image: linear-gradient(var(--sklearn-color-text-on-default-background), var(--sklearn-color-text-on-default-background));\n",
       "  background-size: 2px 100%;\n",
       "  background-repeat: no-repeat;\n",
       "  background-position: center center;\n",
       "}\n",
       "\n",
       "/* Parallel-specific style estimator block */\n",
       "\n",
       "#sk-container-id-6 div.sk-parallel-item::after {\n",
       "  content: \"\";\n",
       "  width: 100%;\n",
       "  border-bottom: 2px solid var(--sklearn-color-text-on-default-background);\n",
       "  flex-grow: 1;\n",
       "}\n",
       "\n",
       "#sk-container-id-6 div.sk-parallel {\n",
       "  display: flex;\n",
       "  align-items: stretch;\n",
       "  justify-content: center;\n",
       "  background-color: var(--sklearn-color-background);\n",
       "  position: relative;\n",
       "}\n",
       "\n",
       "#sk-container-id-6 div.sk-parallel-item {\n",
       "  display: flex;\n",
       "  flex-direction: column;\n",
       "}\n",
       "\n",
       "#sk-container-id-6 div.sk-parallel-item:first-child::after {\n",
       "  align-self: flex-end;\n",
       "  width: 50%;\n",
       "}\n",
       "\n",
       "#sk-container-id-6 div.sk-parallel-item:last-child::after {\n",
       "  align-self: flex-start;\n",
       "  width: 50%;\n",
       "}\n",
       "\n",
       "#sk-container-id-6 div.sk-parallel-item:only-child::after {\n",
       "  width: 0;\n",
       "}\n",
       "\n",
       "/* Serial-specific style estimator block */\n",
       "\n",
       "#sk-container-id-6 div.sk-serial {\n",
       "  display: flex;\n",
       "  flex-direction: column;\n",
       "  align-items: center;\n",
       "  background-color: var(--sklearn-color-background);\n",
       "  padding-right: 1em;\n",
       "  padding-left: 1em;\n",
       "}\n",
       "\n",
       "\n",
       "/* Toggleable style: style used for estimator/Pipeline/ColumnTransformer box that is\n",
       "clickable and can be expanded/collapsed.\n",
       "- Pipeline and ColumnTransformer use this feature and define the default style\n",
       "- Estimators will overwrite some part of the style using the `sk-estimator` class\n",
       "*/\n",
       "\n",
       "/* Pipeline and ColumnTransformer style (default) */\n",
       "\n",
       "#sk-container-id-6 div.sk-toggleable {\n",
       "  /* Default theme specific background. It is overwritten whether we have a\n",
       "  specific estimator or a Pipeline/ColumnTransformer */\n",
       "  background-color: var(--sklearn-color-background);\n",
       "}\n",
       "\n",
       "/* Toggleable label */\n",
       "#sk-container-id-6 label.sk-toggleable__label {\n",
       "  cursor: pointer;\n",
       "  display: flex;\n",
       "  width: 100%;\n",
       "  margin-bottom: 0;\n",
       "  padding: 0.5em;\n",
       "  box-sizing: border-box;\n",
       "  text-align: center;\n",
       "  align-items: start;\n",
       "  justify-content: space-between;\n",
       "  gap: 0.5em;\n",
       "}\n",
       "\n",
       "#sk-container-id-6 label.sk-toggleable__label .caption {\n",
       "  font-size: 0.6rem;\n",
       "  font-weight: lighter;\n",
       "  color: var(--sklearn-color-text-muted);\n",
       "}\n",
       "\n",
       "#sk-container-id-6 label.sk-toggleable__label-arrow:before {\n",
       "  /* Arrow on the left of the label */\n",
       "  content: \"▸\";\n",
       "  float: left;\n",
       "  margin-right: 0.25em;\n",
       "  color: var(--sklearn-color-icon);\n",
       "}\n",
       "\n",
       "#sk-container-id-6 label.sk-toggleable__label-arrow:hover:before {\n",
       "  color: var(--sklearn-color-text);\n",
       "}\n",
       "\n",
       "/* Toggleable content - dropdown */\n",
       "\n",
       "#sk-container-id-6 div.sk-toggleable__content {\n",
       "  max-height: 0;\n",
       "  max-width: 0;\n",
       "  overflow: hidden;\n",
       "  text-align: left;\n",
       "  /* unfitted */\n",
       "  background-color: var(--sklearn-color-unfitted-level-0);\n",
       "}\n",
       "\n",
       "#sk-container-id-6 div.sk-toggleable__content.fitted {\n",
       "  /* fitted */\n",
       "  background-color: var(--sklearn-color-fitted-level-0);\n",
       "}\n",
       "\n",
       "#sk-container-id-6 div.sk-toggleable__content pre {\n",
       "  margin: 0.2em;\n",
       "  border-radius: 0.25em;\n",
       "  color: var(--sklearn-color-text);\n",
       "  /* unfitted */\n",
       "  background-color: var(--sklearn-color-unfitted-level-0);\n",
       "}\n",
       "\n",
       "#sk-container-id-6 div.sk-toggleable__content.fitted pre {\n",
       "  /* unfitted */\n",
       "  background-color: var(--sklearn-color-fitted-level-0);\n",
       "}\n",
       "\n",
       "#sk-container-id-6 input.sk-toggleable__control:checked~div.sk-toggleable__content {\n",
       "  /* Expand drop-down */\n",
       "  max-height: 200px;\n",
       "  max-width: 100%;\n",
       "  overflow: auto;\n",
       "}\n",
       "\n",
       "#sk-container-id-6 input.sk-toggleable__control:checked~label.sk-toggleable__label-arrow:before {\n",
       "  content: \"▾\";\n",
       "}\n",
       "\n",
       "/* Pipeline/ColumnTransformer-specific style */\n",
       "\n",
       "#sk-container-id-6 div.sk-label input.sk-toggleable__control:checked~label.sk-toggleable__label {\n",
       "  color: var(--sklearn-color-text);\n",
       "  background-color: var(--sklearn-color-unfitted-level-2);\n",
       "}\n",
       "\n",
       "#sk-container-id-6 div.sk-label.fitted input.sk-toggleable__control:checked~label.sk-toggleable__label {\n",
       "  background-color: var(--sklearn-color-fitted-level-2);\n",
       "}\n",
       "\n",
       "/* Estimator-specific style */\n",
       "\n",
       "/* Colorize estimator box */\n",
       "#sk-container-id-6 div.sk-estimator input.sk-toggleable__control:checked~label.sk-toggleable__label {\n",
       "  /* unfitted */\n",
       "  background-color: var(--sklearn-color-unfitted-level-2);\n",
       "}\n",
       "\n",
       "#sk-container-id-6 div.sk-estimator.fitted input.sk-toggleable__control:checked~label.sk-toggleable__label {\n",
       "  /* fitted */\n",
       "  background-color: var(--sklearn-color-fitted-level-2);\n",
       "}\n",
       "\n",
       "#sk-container-id-6 div.sk-label label.sk-toggleable__label,\n",
       "#sk-container-id-6 div.sk-label label {\n",
       "  /* The background is the default theme color */\n",
       "  color: var(--sklearn-color-text-on-default-background);\n",
       "}\n",
       "\n",
       "/* On hover, darken the color of the background */\n",
       "#sk-container-id-6 div.sk-label:hover label.sk-toggleable__label {\n",
       "  color: var(--sklearn-color-text);\n",
       "  background-color: var(--sklearn-color-unfitted-level-2);\n",
       "}\n",
       "\n",
       "/* Label box, darken color on hover, fitted */\n",
       "#sk-container-id-6 div.sk-label.fitted:hover label.sk-toggleable__label.fitted {\n",
       "  color: var(--sklearn-color-text);\n",
       "  background-color: var(--sklearn-color-fitted-level-2);\n",
       "}\n",
       "\n",
       "/* Estimator label */\n",
       "\n",
       "#sk-container-id-6 div.sk-label label {\n",
       "  font-family: monospace;\n",
       "  font-weight: bold;\n",
       "  display: inline-block;\n",
       "  line-height: 1.2em;\n",
       "}\n",
       "\n",
       "#sk-container-id-6 div.sk-label-container {\n",
       "  text-align: center;\n",
       "}\n",
       "\n",
       "/* Estimator-specific */\n",
       "#sk-container-id-6 div.sk-estimator {\n",
       "  font-family: monospace;\n",
       "  border: 1px dotted var(--sklearn-color-border-box);\n",
       "  border-radius: 0.25em;\n",
       "  box-sizing: border-box;\n",
       "  margin-bottom: 0.5em;\n",
       "  /* unfitted */\n",
       "  background-color: var(--sklearn-color-unfitted-level-0);\n",
       "}\n",
       "\n",
       "#sk-container-id-6 div.sk-estimator.fitted {\n",
       "  /* fitted */\n",
       "  background-color: var(--sklearn-color-fitted-level-0);\n",
       "}\n",
       "\n",
       "/* on hover */\n",
       "#sk-container-id-6 div.sk-estimator:hover {\n",
       "  /* unfitted */\n",
       "  background-color: var(--sklearn-color-unfitted-level-2);\n",
       "}\n",
       "\n",
       "#sk-container-id-6 div.sk-estimator.fitted:hover {\n",
       "  /* fitted */\n",
       "  background-color: var(--sklearn-color-fitted-level-2);\n",
       "}\n",
       "\n",
       "/* Specification for estimator info (e.g. \"i\" and \"?\") */\n",
       "\n",
       "/* Common style for \"i\" and \"?\" */\n",
       "\n",
       ".sk-estimator-doc-link,\n",
       "a:link.sk-estimator-doc-link,\n",
       "a:visited.sk-estimator-doc-link {\n",
       "  float: right;\n",
       "  font-size: smaller;\n",
       "  line-height: 1em;\n",
       "  font-family: monospace;\n",
       "  background-color: var(--sklearn-color-background);\n",
       "  border-radius: 1em;\n",
       "  height: 1em;\n",
       "  width: 1em;\n",
       "  text-decoration: none !important;\n",
       "  margin-left: 0.5em;\n",
       "  text-align: center;\n",
       "  /* unfitted */\n",
       "  border: var(--sklearn-color-unfitted-level-1) 1pt solid;\n",
       "  color: var(--sklearn-color-unfitted-level-1);\n",
       "}\n",
       "\n",
       ".sk-estimator-doc-link.fitted,\n",
       "a:link.sk-estimator-doc-link.fitted,\n",
       "a:visited.sk-estimator-doc-link.fitted {\n",
       "  /* fitted */\n",
       "  border: var(--sklearn-color-fitted-level-1) 1pt solid;\n",
       "  color: var(--sklearn-color-fitted-level-1);\n",
       "}\n",
       "\n",
       "/* On hover */\n",
       "div.sk-estimator:hover .sk-estimator-doc-link:hover,\n",
       ".sk-estimator-doc-link:hover,\n",
       "div.sk-label-container:hover .sk-estimator-doc-link:hover,\n",
       ".sk-estimator-doc-link:hover {\n",
       "  /* unfitted */\n",
       "  background-color: var(--sklearn-color-unfitted-level-3);\n",
       "  color: var(--sklearn-color-background);\n",
       "  text-decoration: none;\n",
       "}\n",
       "\n",
       "div.sk-estimator.fitted:hover .sk-estimator-doc-link.fitted:hover,\n",
       ".sk-estimator-doc-link.fitted:hover,\n",
       "div.sk-label-container:hover .sk-estimator-doc-link.fitted:hover,\n",
       ".sk-estimator-doc-link.fitted:hover {\n",
       "  /* fitted */\n",
       "  background-color: var(--sklearn-color-fitted-level-3);\n",
       "  color: var(--sklearn-color-background);\n",
       "  text-decoration: none;\n",
       "}\n",
       "\n",
       "/* Span, style for the box shown on hovering the info icon */\n",
       ".sk-estimator-doc-link span {\n",
       "  display: none;\n",
       "  z-index: 9999;\n",
       "  position: relative;\n",
       "  font-weight: normal;\n",
       "  right: .2ex;\n",
       "  padding: .5ex;\n",
       "  margin: .5ex;\n",
       "  width: min-content;\n",
       "  min-width: 20ex;\n",
       "  max-width: 50ex;\n",
       "  color: var(--sklearn-color-text);\n",
       "  box-shadow: 2pt 2pt 4pt #999;\n",
       "  /* unfitted */\n",
       "  background: var(--sklearn-color-unfitted-level-0);\n",
       "  border: .5pt solid var(--sklearn-color-unfitted-level-3);\n",
       "}\n",
       "\n",
       ".sk-estimator-doc-link.fitted span {\n",
       "  /* fitted */\n",
       "  background: var(--sklearn-color-fitted-level-0);\n",
       "  border: var(--sklearn-color-fitted-level-3);\n",
       "}\n",
       "\n",
       ".sk-estimator-doc-link:hover span {\n",
       "  display: block;\n",
       "}\n",
       "\n",
       "/* \"?\"-specific style due to the `<a>` HTML tag */\n",
       "\n",
       "#sk-container-id-6 a.estimator_doc_link {\n",
       "  float: right;\n",
       "  font-size: 1rem;\n",
       "  line-height: 1em;\n",
       "  font-family: monospace;\n",
       "  background-color: var(--sklearn-color-background);\n",
       "  border-radius: 1rem;\n",
       "  height: 1rem;\n",
       "  width: 1rem;\n",
       "  text-decoration: none;\n",
       "  /* unfitted */\n",
       "  color: var(--sklearn-color-unfitted-level-1);\n",
       "  border: var(--sklearn-color-unfitted-level-1) 1pt solid;\n",
       "}\n",
       "\n",
       "#sk-container-id-6 a.estimator_doc_link.fitted {\n",
       "  /* fitted */\n",
       "  border: var(--sklearn-color-fitted-level-1) 1pt solid;\n",
       "  color: var(--sklearn-color-fitted-level-1);\n",
       "}\n",
       "\n",
       "/* On hover */\n",
       "#sk-container-id-6 a.estimator_doc_link:hover {\n",
       "  /* unfitted */\n",
       "  background-color: var(--sklearn-color-unfitted-level-3);\n",
       "  color: var(--sklearn-color-background);\n",
       "  text-decoration: none;\n",
       "}\n",
       "\n",
       "#sk-container-id-6 a.estimator_doc_link.fitted:hover {\n",
       "  /* fitted */\n",
       "  background-color: var(--sklearn-color-fitted-level-3);\n",
       "}\n",
       "</style><div id=\"sk-container-id-6\" class=\"sk-top-container\"><div class=\"sk-text-repr-fallback\"><pre>LinearRegression()</pre><b>In a Jupyter environment, please rerun this cell to show the HTML representation or trust the notebook. <br />On GitHub, the HTML representation is unable to render, please try loading this page with nbviewer.org.</b></div><div class=\"sk-container\" hidden><div class=\"sk-item\"><div class=\"sk-estimator fitted sk-toggleable\"><input class=\"sk-toggleable__control sk-hidden--visually\" id=\"sk-estimator-id-6\" type=\"checkbox\" checked><label for=\"sk-estimator-id-6\" class=\"sk-toggleable__label fitted sk-toggleable__label-arrow\"><div><div>LinearRegression</div></div><div><a class=\"sk-estimator-doc-link fitted\" rel=\"noreferrer\" target=\"_blank\" href=\"https://scikit-learn.org/1.6/modules/generated/sklearn.linear_model.LinearRegression.html\">?<span>Documentation for LinearRegression</span></a><span class=\"sk-estimator-doc-link fitted\">i<span>Fitted</span></span></div></label><div class=\"sk-toggleable__content fitted\"><pre>LinearRegression()</pre></div> </div></div></div></div>"
      ],
      "text/plain": [
       "LinearRegression()"
      ]
     },
     "execution_count": 186,
     "metadata": {},
     "output_type": "execute_result"
    }
   ],
   "source": [
    "model.fit(X_train, Y_train)"
   ]
  },
  {
   "cell_type": "markdown",
   "metadata": {},
   "source": [
    "Model Evaluation"
   ]
  },
  {
   "cell_type": "markdown",
   "metadata": {},
   "source": [
    "#Accuracy score"
   ]
  },
  {
   "cell_type": "code",
   "execution_count": 187,
   "metadata": {},
   "outputs": [],
   "source": [
    "#Accuracy on training data\n",
    "X_train_prediction = model.predict(X_train)"
   ]
  },
  {
   "cell_type": "code",
   "execution_count": 188,
   "metadata": {},
   "outputs": [
    {
     "name": "stdout",
     "output_type": "stream",
     "text": [
      "[ 3.89705039e-01  7.02111202e-01 -4.03455209e-02  4.87211550e-03\n",
      "  1.41270509e-01  2.45478740e-01  7.33314358e-02  7.31733024e-01\n",
      "  3.81187558e-01  7.53510426e-02  2.37630105e-01  8.82400038e-01\n",
      "  9.42131451e-02  7.60101282e-02  4.68752410e-01  3.26792478e-01\n",
      "  6.64598548e-01  3.97700324e-02  1.43991294e-01 -1.29131167e-01\n",
      "  3.07847279e-01  1.24657688e-01  6.92008809e-01  2.83660810e-01\n",
      "  9.02930482e-02  9.31705602e-01  4.24406690e-01  4.57758641e-02\n",
      "  4.58847453e-01 -1.46554800e-02  5.61712286e-01  8.32938343e-01\n",
      "  2.20166685e-01 -9.86216666e-02  6.09940338e-01 -7.26621216e-02\n",
      "  8.72935807e-01  1.91442091e-01  5.60814781e-01  4.01600734e-01\n",
      " -7.39774906e-03  1.47096433e-01  3.45359714e-01  6.54641148e-01\n",
      "  7.95657766e-01 -2.78414068e-02  8.00437164e-02  8.73317955e-01\n",
      "  1.44735807e-01  9.58690230e-01  1.60869491e-01  6.74512785e-01\n",
      "  4.03304150e-01  1.33472837e-01  1.64931372e-01  3.18177473e-01\n",
      "  4.25707192e-01  1.07718911e-01  8.24609757e-01  5.10498717e-02\n",
      "  1.02590636e+00  3.49056493e-01  2.92464705e-01  4.99241057e-01\n",
      "  6.43541240e-01  2.91328350e-01  3.33389048e-01  6.10029082e-01\n",
      "  6.23874095e-01  2.05205056e-01  9.69317341e-01  1.44735807e-01\n",
      "  1.40454243e-01  8.97507664e-01  2.34803381e-01  7.39905214e-02\n",
      "  7.52260436e-02 -1.39282130e-02 -2.73527743e-02  1.95631000e-02\n",
      "  6.09160695e-01  4.23304714e-01  2.83190721e-01  1.47096433e-01\n",
      "  9.68223721e-01  3.75955031e-01 -2.06404937e-02  1.10041516e-01\n",
      "  5.76435497e-01  3.03317985e-02  7.95657766e-01  1.48130516e-01\n",
      "  4.95644125e-01  1.01465055e+00 -4.75786157e-02  3.03317985e-02\n",
      "  4.78078375e-01  9.43066715e-01  7.28565589e-01  8.94529761e-01\n",
      "  4.27622861e-01  1.08766404e+00  1.71830070e-01  7.29678023e-02\n",
      "  4.66325810e-01  1.33626417e-01  7.52809522e-02  1.00250754e+00\n",
      "  1.36335510e-02  2.45478740e-01 -7.71807638e-02  7.85713753e-01\n",
      "  8.61178155e-01  3.93154905e-02  1.29491583e-01  1.03220554e+00\n",
      "  1.37401024e-01  1.44728216e-01  6.07727965e-01  1.26959591e-01\n",
      "  6.65623374e-02  6.02912786e-01  1.47041524e-01  1.09738518e-01\n",
      "  8.71944666e-01  7.52809522e-02  9.46218235e-01  7.53510426e-02\n",
      "  7.66494526e-01  8.19275178e-02  7.15110398e-01  3.67665174e-03\n",
      "  6.54641148e-01  6.54677148e-01  7.68649554e-01  7.46585880e-01\n",
      "  8.94592260e-01  6.30309875e-01  3.07920702e-01  5.98367841e-02\n",
      "  7.15110398e-01  8.59511246e-01  8.93089594e-01  8.78850668e-02\n",
      "  4.96777177e-01  7.58133284e-01  1.86605281e-01  9.33981874e-02\n",
      "  3.10822125e-01  5.22618247e-01  5.98500567e-02  2.45478740e-01\n",
      "  6.00730513e-01  1.54348819e-02  7.06319787e-01 -9.24102860e-04\n",
      "  1.30164179e-02  8.70589186e-02  8.82335641e-02  8.99615419e-02\n",
      "  1.27620586e-01  7.22372530e-02  2.32517282e-01  6.69977286e-01\n",
      "  3.69747275e-01  1.90977258e-01  2.65615582e-01  7.53510426e-02\n",
      "  1.16067021e-01  2.02390334e-02 -3.64825133e-03  7.48965007e-02\n",
      "  2.89490398e-01  3.81142104e-01  6.01145892e-01  7.38603380e-01\n",
      "  1.40988329e-01  1.91442091e-01  6.89511265e-01  1.89675563e-01\n",
      "  6.70583559e-01  2.05391473e-01  7.28534959e-01  8.34050305e-01\n",
      "  5.76812358e-01  2.92135070e-01  5.01301760e-01  1.06438297e-01\n",
      "  5.72492042e-01  2.79040144e-01  3.22028326e-01  3.07518690e-01\n",
      "  5.20500981e-01  5.30978242e-01  1.61417157e-01  8.35589433e-01\n",
      "  3.20850895e-01  2.01678186e-01  4.44666547e-01  6.54641148e-01\n",
      "  8.33934841e-01  5.99068744e-02  1.10748460e+00  1.39999701e-01\n",
      "  1.04665112e-01  1.00106695e-01  8.06952113e-02  2.18629618e-01\n",
      "  1.05266216e+00  5.67435071e-01  3.98571653e-02  4.67524804e-01\n",
      "  7.17569524e-01  8.72761258e-01  9.86872754e-01  4.32724578e-01\n",
      "  1.09736609e-01  8.66669978e-02  3.02119944e-01  1.35401901e-01\n",
      "  1.44771807e-01  3.06988837e-01  1.73379593e-01  7.60960008e-01\n",
      "  7.53510426e-02  1.09738518e-01  4.56841118e-01  8.11040340e-01\n",
      "  5.42218472e-01  5.98500567e-02  9.37466847e-02  1.02211246e+00\n",
      "  2.25012355e-01  6.16673182e-01  8.89660325e-01  6.54699875e-01\n",
      "  2.92464705e-01  2.04068702e-01  5.72493905e-01  1.01754410e-01\n",
      "  1.07717002e-01  5.34692279e-02  4.82416205e-01  1.00217123e+00\n",
      "  3.18994423e-01  7.33314358e-02 -3.18463250e-01  5.85029113e-01\n",
      "  1.44330492e-01  1.44735807e-01  1.27029681e-01  6.54586240e-01\n",
      "  6.00489187e-02  7.09413649e-01  1.44735807e-01  1.06531805e+00\n",
      "  2.38424443e-01  7.52809522e-02  5.31245034e-02  2.85752424e-01\n",
      "  1.09736609e-01  7.49874091e-02  4.29815555e-01  4.04576234e-01\n",
      "  1.06822749e-01  6.07727965e-01  7.53510426e-02  1.00385431e+00\n",
      "  7.50158180e-02  7.71537874e-02  5.76378934e-01  1.13535029e-01\n",
      "  2.00514777e-02  7.68808643e-01  4.11486626e-01  4.57002395e-01\n",
      "  1.04304939e-01  7.28721376e-01  6.88261275e-01 -1.21688337e-01\n",
      "  1.58280824e-01  1.20859075e-01 -7.20740904e-02  7.97868127e-01\n",
      "  4.39027816e-01  7.92042853e-01  1.44726352e-01  1.48826462e-01\n",
      "  6.77821866e-01  2.39908802e-01  8.74150828e-02  1.33685144e-01\n",
      "  5.96591248e-01  4.44006637e-01  1.40365243e-01  2.38766460e-01\n",
      "  1.09738518e-01  6.03316802e-01  5.59306359e-01  1.81770350e-01\n",
      " -6.76264584e-02  9.42999240e-02  1.95394332e-02  1.09736609e-01\n",
      "  1.44372173e-01  6.87517590e-01  2.04963276e-01  7.63413893e-01\n",
      "  6.08887392e-02  7.52809522e-02  2.51054666e-01  1.29291639e-01\n",
      "  8.74162159e-02  7.18306554e-01  7.37096037e-01  6.35943337e-01\n",
      "  7.49874091e-02  5.38479563e-01  3.00714053e-01  5.87869051e-01\n",
      "  1.58682195e-01  7.08169830e-01  2.79040144e-01  7.52809522e-02\n",
      " -3.85126870e-02  1.45057759e-01  4.35122802e-01  6.47715541e-02\n",
      "  6.20002114e-01  7.69602090e-01 -4.12800487e-04  6.90544269e-01\n",
      "  6.38056241e-01  2.71524626e-01  1.02590636e+00  4.30267084e-01\n",
      "  7.63965981e-01  1.47096433e-01  2.28329122e-01  2.47015807e-01\n",
      " -2.92003753e-02  3.87854384e-01  1.13353213e-01  1.53742441e-01\n",
      "  5.36949671e-01  2.54771571e-01  9.37250992e-01 -1.02080057e-02\n",
      "  3.18381111e-01  6.10614090e-01  7.78058026e-01  5.59576838e-01\n",
      " -7.44320325e-03  6.73234296e-01  1.13489575e-01  5.98178751e-02\n",
      "  1.87527340e-01  5.30695947e-02  1.04045630e+00  7.13032068e-01\n",
      "  2.84616070e-01  1.40365243e-01  4.34959666e-01  5.89481770e-01\n",
      "  3.19313828e-01  9.52907210e-01  1.01259644e+00  9.92152245e-01\n",
      "  2.58073713e-01  3.02371851e-01  1.41278406e-01  5.14726321e-01\n",
      "  8.59011250e-01  2.70532537e-01  1.48258506e-01  8.92178987e-02\n",
      "  6.08239116e-01  9.48472988e-01  4.08355537e-01  4.11486626e-01\n",
      "  6.36359595e-01  1.44735807e-01  1.14264205e-01  1.13024447e-01\n",
      "  2.47498347e-01  7.85815251e-01  4.33257410e-01  2.41589303e-01\n",
      "  1.26914137e-01  3.26026108e-01  1.26666048e-01  6.17007167e-01\n",
      "  1.60869491e-01  1.33741962e-01  2.75660370e-01  1.85212480e-01\n",
      "  6.43465487e-01  1.20851487e-01  8.77374190e-01  8.76949752e-01\n",
      "  6.80886457e-01  3.71562591e-02  6.17906736e-01  6.36810024e-01\n",
      "  3.72830806e-01  2.16613470e-01  4.96648502e-01  2.06742123e-01\n",
      "  1.00655363e+00  2.82650953e-01  1.01690834e+00  7.44605055e-02\n",
      "  1.44735807e-01  6.07727965e-01  9.47461968e-01  1.00055559e-01\n",
      "  2.41589303e-01  3.78227740e-01  2.92464705e-01  7.23939601e-01\n",
      "  2.71945959e-01  1.46984706e-01  1.44735807e-01  4.32724578e-01\n",
      "  6.54641148e-01  6.54641148e-01  8.07039352e-02  6.49265401e-01\n",
      "  1.20247310e-01  8.03624934e-01  3.98655406e-02  7.52809522e-02\n",
      "  4.37243220e-01  3.29876614e-02  4.16383125e-01  8.26629363e-01\n",
      "  1.44735807e-01  3.25344296e-01  1.47166523e-01  9.73716860e-02\n",
      "  7.43496588e-01  6.54635467e-01  1.53965937e-01  1.09738518e-01\n",
      "  7.09413649e-01  1.13192259e-01  7.32714368e-01  1.17787332e-01\n",
      "  2.70028146e-03  8.90795383e-01  4.70105030e-02  1.67962451e-01\n",
      "  1.32279053e-01  5.11083331e-01  1.26609230e-01 -2.06404937e-02\n",
      "  2.79441243e-01  1.13150578e-01  9.41433715e-01  5.09094397e-02\n",
      "  4.15337713e-01  7.41959521e-01  6.76408710e-01  1.60869491e-01\n",
      "  1.33652963e-01  4.23554712e-01  5.63628125e-01  7.27398605e-01\n",
      " -7.45831125e-02  9.19033673e-01  5.41626580e-01  8.66859068e-02\n",
      "  9.09601348e-01  2.65546147e-02  1.33616963e-01  7.99641716e-02\n",
      "  7.46593471e-01  7.69575013e-01 -1.57758140e-02  6.54658194e-01\n",
      "  7.85555626e-02  2.24861277e-01  4.22192390e-01  9.80358364e-02\n",
      "  7.53510426e-02  4.58847453e-01  4.25577423e-01 -1.39690673e-02\n",
      "  6.54641148e-01  5.20976552e-01  6.54927143e-01  4.60199715e-01\n",
      " -1.24972695e-02  1.44735807e-01  5.96244190e-01  7.52809522e-02\n",
      "  1.52190293e-01  7.26515356e-01  2.16077474e-01  3.55020920e-01\n",
      "  1.67303365e-01  6.05006187e-01 -6.93752544e-03  7.01685837e-01\n",
      "  7.17569524e-01  4.51457995e-02  9.59301794e-02  5.85248125e-01\n",
      "  7.60235738e-01  1.33685144e-01  5.66305480e-01  1.13272116e-01\n",
      "  9.77005189e-01  7.40942727e-01  7.45826744e-01  4.96556763e-02\n",
      "  6.54699875e-01  1.09738518e-01  3.24919044e-01  7.55384082e-01\n",
      "  1.10041516e-01  1.64931372e-01  8.54864646e-01  7.53510426e-02\n",
      "  7.53510426e-02  5.22827937e-01  2.65615582e-01 -7.11656192e-04\n",
      "  1.44735807e-01  4.25350152e-01  9.82062108e-01  5.85256384e-01\n",
      "  8.66859068e-02  2.03119135e-01  5.83143020e-01  2.20782112e-01\n",
      "  8.74872138e-01  3.38314315e-01  2.43206921e-01  3.96015904e-01\n",
      "  3.28155170e-01  3.25344296e-01  5.38057388e-02  8.31336092e-01\n",
      "  6.19643860e-01  6.55234273e-01  9.29796453e-02  2.71191508e-01\n",
      "  5.86493555e-01  5.10871769e-01  1.91442091e-01  1.98554508e-01\n",
      "  1.22201202e-01  3.83823829e-02  1.76273831e-01  2.18629618e-01\n",
      " -6.09141777e-02  1.09738518e-01  1.71830070e-01  7.52809522e-02\n",
      "  3.83455086e-01  1.26789138e-01  3.93495812e-02  1.33378328e-01\n",
      "  9.78226233e-02  9.78226233e-02  1.51348736e-01  6.17780046e-01\n",
      "  2.69783616e-01  3.46241657e-01  2.44342386e-01  4.59747082e-01\n",
      "  8.08271777e-01  2.85844520e-01 -3.18463250e-01  2.59130573e-01\n",
      "  1.19134346e-01  2.57766947e-01  8.72841871e-02  4.22734265e-01\n",
      "  3.25053217e-01  5.63319572e-02  1.44730125e-01  1.67303365e-01\n",
      "  7.62301648e-02  1.01204944e+00  1.74841718e-01  1.10697753e+00\n",
      "  3.20850895e-01 -6.77628209e-02  1.89476407e-01  2.27296743e-01\n",
      "  1.09736609e-01  4.64823131e-02  6.40502704e-01  2.12380440e-01\n",
      " -5.19372484e-02  9.78085655e-02 -1.35573122e-01  9.98305096e-02\n",
      "  9.16428878e-01  2.91513826e-02  9.15649230e-01  4.05941954e-02\n",
      "  7.68808643e-01  1.28640920e-02  3.96523327e-01  3.62430373e-01\n",
      "  9.75386133e-01  3.54598076e-01  5.56222965e-01  7.54625189e-01\n",
      "  9.22004682e-01  4.32724578e-01  1.79927930e-01  2.97712620e-01\n",
      "  9.02037463e-01  8.07028021e-02  6.54817283e-01 -3.18463250e-01\n",
      "  3.53525890e-01  1.06438297e-01  8.14658253e-01  6.19641951e-01\n",
      "  7.02649368e-01  1.01410967e-01  4.64823131e-02  6.29995471e-01\n",
      "  7.51130927e-01  4.44566328e-01  1.85068214e-01  1.67833679e-01\n",
      "  4.64247046e-01  1.27029681e-01  9.53102145e-01  7.82828375e-02\n",
      "  2.18629618e-01  2.06742123e-01  1.84775859e-01  4.44300501e-01\n",
      "  8.63306599e-01  6.37747516e-01  1.67178366e-01  7.36532895e-01\n",
      "  6.54633558e-01  1.01784243e+00  1.20228401e-01  7.82828375e-02\n",
      "  1.00180558e-01  9.38553388e-01 -1.41725864e-02  1.53992439e-01\n",
      "  1.13671603e-01  1.03233777e-01  7.22874731e-01  5.23538893e-01\n",
      "  2.50194412e-01  7.51237716e-02  6.63659146e-01  6.13853867e-03\n",
      "  1.39821765e-01  8.88569336e-01  3.91602886e-01  4.21623918e-01\n",
      "  3.12101507e-02  3.18177473e-01  5.85256384e-01 -4.11409692e-02\n",
      "  1.43192113e-01  9.72316483e-01  7.53510426e-02  7.25459013e-01\n",
      "  4.27395590e-01  7.53510426e-02  1.43507461e-01  1.04195642e+00\n",
      "  9.16313629e-01  9.75510250e-01  7.56778337e-01  6.09698861e-01\n",
      "  2.95494042e-02  1.93067564e-01  5.63606778e-01  6.54699875e-01\n",
      "  1.33628326e-01  5.73016149e-01  4.95867171e-01  8.32788900e-01\n",
      "  6.27688182e-01  6.64941561e-02  1.00110468e-01  2.74361909e-01\n",
      "  6.50637991e-01  1.02214638e+00  1.26959591e-01  3.84312924e-01\n",
      "  6.54641148e-01  1.40732649e-01  2.19282217e-01  4.43467387e-01\n",
      "  1.60170633e-01  2.41589303e-01  3.42344212e-01 -7.17677045e-02\n",
      "  1.06711022e-01  2.41589303e-01  9.23255095e-01  5.83515184e-01\n",
      "  1.10412740e-01  1.91525805e-01  5.12294553e-01  4.23270623e-01]\n"
     ]
    }
   ],
   "source": [
    "print(X_train_prediction)"
   ]
  },
  {
   "cell_type": "code",
   "execution_count": 189,
   "metadata": {},
   "outputs": [
    {
     "name": "stdout",
     "output_type": "stream",
     "text": [
      "Accuracy on Training data :  0.8089887640449438\n"
     ]
    }
   ],
   "source": [
    "# Convert continuous predictions to binary values\n",
    "X_train_prediction_binary = [1 if pred >= 0.5 else 0 for pred in X_train_prediction]\n",
    "\n",
    "# Calculate accuracy score for training data\n",
    "training_data_accuracy = accuracy_score(Y_train, X_train_prediction_binary)\n",
    "print('Accuracy on Training data : ', training_data_accuracy)\n",
    "\n"
   ]
  },
  {
   "cell_type": "code",
   "execution_count": 190,
   "metadata": {},
   "outputs": [
    {
     "name": "stdout",
     "output_type": "stream",
     "text": [
      "[ 0.34086842  0.13374196  0.75057651  0.10877664  0.45041452  0.07326135\n",
      "  0.08748924  0.10652921  0.23509916  0.2345133   0.21782638  0.87628384\n",
      "  0.58894069  0.09737169  0.09737169  0.60654698  0.05380574 -0.05786096\n",
      "  0.69231491 -0.09221362  0.52383867  0.56694401  0.07095429  0.59401823\n",
      "  0.21609675  0.71971775  0.62000211  0.33618134  0.08741508  0.08483855\n",
      "  0.14039742  0.02939869  0.53486316  0.43421372  0.39119557  0.56330908\n",
      "  0.96187202  0.01518556  0.07528095  0.21078098  0.01917865 -0.02612221\n",
      "  0.63679866  0.10273647  0.13391619  0.54966682  1.0152182   0.07562945\n",
      "  0.16141525  0.77438457  0.07535104  0.28057721  0.25885336  0.31285811\n",
      "  0.23091782  0.26184626  0.70651896  0.13402037 -0.06807909  0.05985006\n",
      "  0.67483671  0.37975498  0.03977003  0.07498741  0.76313644  0.05385368\n",
      "  0.81033721  0.25552353  0.07148383  0.10970257  0.57662    -0.22213391\n",
      "  0.61165975  0.08664045  0.6099969   0.34194043  0.1538788   0.3730427\n",
      "  0.80087585  0.08192752  1.01893144  0.4307592  -0.02414884  0.17410278\n",
      "  0.88454684  0.84150738  0.0199116   0.07528095  0.60771277  0.2589033\n",
      "  0.14472444  0.14721575  0.14942848  0.07528095 -0.02069731  0.7881159\n",
      "  0.5364598   0.67536274  0.10973661  0.45255368  0.60482852  0.10697997\n",
      "  0.83512821  0.98000963  0.14111333  0.75305514  0.83170893  0.53847956\n",
      "  0.35576877  0.09333549  0.42512288  0.07991872  0.30675995  0.15009832\n",
      "  1.03478739  0.69511782  0.09335273  0.86492626  0.34436762  0.10674728\n",
      "  0.68286652  0.13600392  0.2415893   0.27904014  0.13673447  0.07528095\n",
      "  0.21379499  0.78469233  0.1537538   0.2415893   0.07528095  0.24050598\n",
      "  0.67115664  0.98892963  0.11123313  0.53997102  0.18506821  0.07535104\n",
      "  0.01286409  0.0668283   0.63016592  0.98210501  0.61688531  0.83749047\n",
      "  0.42355471  0.79160236  0.11024898 -0.09783172  0.15376326  0.8176499\n",
      "  0.29628981  0.53061131  0.0699753  -0.01619571  0.65464115  0.03280584\n",
      "  0.39468598  0.7781778   0.75343266  0.05633196  0.48471296  0.07537945\n",
      "  0.14716652  0.11473419  1.0068437   0.95922953 -0.01920078  0.07522604\n",
      "  1.15344658  0.12666605  0.02857422  0.66353224  0.7242818   0.63657139\n",
      "  0.11360512  0.1274615  -0.31846325  0.10011047  0.53146898]\n"
     ]
    }
   ],
   "source": [
    "# Predict on test data\n",
    "X_test_prediction = model.predict(X_test)\n",
    "print(X_test_prediction)\n"
   ]
  },
  {
   "cell_type": "code",
   "execution_count": 191,
   "metadata": {},
   "outputs": [
    {
     "name": "stdout",
     "output_type": "stream",
     "text": [
      "Accuracy on Test data :  0.7541899441340782\n"
     ]
    }
   ],
   "source": [
    "# Convert continuous predictions to binary values for test data\n",
    "X_test_prediction_binary = [1 if pred >= 0.5 else 0 for pred in X_test_prediction]\n",
    "\n",
    "# Calculate accuracy score for test data\n",
    "test_data_accuracy = accuracy_score(Y_test, X_test_prediction_binary)\n",
    "print('Accuracy on Test data : ', test_data_accuracy)"
   ]
  }
 ],
 "metadata": {
  "kernelspec": {
   "display_name": ".venv",
   "language": "python",
   "name": "python3"
  },
  "language_info": {
   "codemirror_mode": {
    "name": "ipython",
    "version": 3
   },
   "file_extension": ".py",
   "mimetype": "text/x-python",
   "name": "python",
   "nbconvert_exporter": "python",
   "pygments_lexer": "ipython3",
   "version": "3.11.9"
  }
 },
 "nbformat": 4,
 "nbformat_minor": 2
}
